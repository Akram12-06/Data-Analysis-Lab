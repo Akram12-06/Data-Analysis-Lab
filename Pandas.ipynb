{
 "cells": [
  {
   "cell_type": "code",
   "execution_count": 5,
   "id": "dd2fa700",
   "metadata": {},
   "outputs": [
    {
     "name": "stdout",
     "output_type": "stream",
     "text": [
      "0    1\n",
      "1    2\n",
      "2    3\n",
      "dtype: int64\n"
     ]
    }
   ],
   "source": [
    "import pandas as pd\n",
    "data=pd.Series([1,2,3])\n",
    "print(data)"
   ]
  },
  {
   "cell_type": "markdown",
   "id": "773d5306",
   "metadata": {},
   "source": [
    "2.\tWrite a pandas program to convert a pandas module series to python list."
   ]
  },
  {
   "cell_type": "code",
   "execution_count": 4,
   "id": "afe98c05",
   "metadata": {},
   "outputs": [
    {
     "name": "stdout",
     "output_type": "stream",
     "text": [
      "[2, 4, 6, 8, 10]\n"
     ]
    }
   ],
   "source": [
    "print(ds.tolist())"
   ]
  },
  {
   "cell_type": "markdown",
   "id": "44c1f6d8",
   "metadata": {},
   "source": [
    "3.\tWrite a pandas program to add, subtract, multiple and divide two pandas series."
   ]
  },
  {
   "cell_type": "code",
   "execution_count": 10,
   "id": "eae78d79",
   "metadata": {},
   "outputs": [
    {
     "name": "stdout",
     "output_type": "stream",
     "text": [
      "MUL\n",
      " 0    1\n",
      "1    4\n",
      "2    9\n",
      "dtype: int64\n",
      "ADD\n",
      " 0    2\n",
      "1    4\n",
      "2    6\n",
      "dtype: int64\n",
      "SUB\n",
      " 0    0\n",
      "1    0\n",
      "2    0\n",
      "dtype: int64\n"
     ]
    }
   ],
   "source": [
    "x=pd.Series([1,2,3])\n",
    "y=pd.Series([1,2,3])\n",
    "print(\"MUL\\n\",x*y)\n",
    "print(\"ADD\\n\",x+y)\n",
    "print(\"SUB\\n\",x-y)"
   ]
  },
  {
   "cell_type": "markdown",
   "id": "3b45d2e1",
   "metadata": {},
   "source": [
    "4.\tWrite a Pandas program to convert all the string values to upper, lower cases in a given pandas series. Also find the length of the string values."
   ]
  },
  {
   "cell_type": "code",
   "execution_count": 13,
   "id": "d72d3732",
   "metadata": {},
   "outputs": [
    {
     "name": "stdout",
     "output_type": "stream",
     "text": [
      "Upper case\n",
      " 0      X\n",
      "1      Y\n",
      "2      Z\n",
      "3    ASD\n",
      "4    CDS\n",
      "dtype: object\n",
      "Lower case\n",
      " 0      x\n",
      "1      y\n",
      "2      z\n",
      "3    asd\n",
      "4    cds\n",
      "dtype: object\n",
      "Length\n",
      " 0    1\n",
      "1    1\n",
      "2    1\n",
      "3    3\n",
      "4    3\n",
      "dtype: int64\n"
     ]
    }
   ],
   "source": [
    "x=pd.Series(['X','Y','Z','asD','cdS'])\n",
    "print(\"Upper case\\n\",x.str.upper())\n",
    "print(\"Lower case\\n\",x.str.lower())\n",
    "print(\"Length\\n\",x.str.len())"
   ]
  },
  {
   "cell_type": "markdown",
   "id": "6287cb5e",
   "metadata": {},
   "source": [
    "5.\tWrite a Pandas program to remove whitespaces, left sided whitespaces and right sided whitespaces of the string values of a given pandas series"
   ]
  },
  {
   "cell_type": "code",
   "execution_count": 20,
   "id": "d2730676",
   "metadata": {},
   "outputs": [
    {
     "name": "stdout",
     "output_type": "stream",
     "text": [
      "Index(['Green', 'Black', 'white'], dtype='object')\n",
      "Int64Index([6, 6, 7], dtype='int64')\n"
     ]
    }
   ],
   "source": [
    "x=pd.Index([' Green','Black ',' white '])\n",
    "print(x.str.strip())\n",
    "print(x.str.len())"
   ]
  },
  {
   "cell_type": "markdown",
   "id": "7103216d",
   "metadata": {},
   "source": [
    "6.\tWrite a Pandas program to create and display a DataFrame consist of student name, father name , mobile number as columns and register number as index."
   ]
  },
  {
   "cell_type": "code",
   "execution_count": 40,
   "id": "720eaf25",
   "metadata": {},
   "outputs": [
    {
     "name": "stdout",
     "output_type": "stream",
     "text": [
      "           Name  Father  Ph No.\n",
      "y20cs162  Akram  shoheb     123\n",
      "y20cs164    Ali  shoheb     456\n"
     ]
    }
   ],
   "source": [
    "l={'Name':['Akram','Ali'],'Father':['shoheb','shoheb'],'Ph No.':[123,456]}\n",
    "label=['y20cs162','y20cs164']\n",
    "\n",
    "df=pd.DataFrame(l,index=label)\n",
    "print(df)"
   ]
  },
  {
   "cell_type": "markdown",
   "id": "0cd28856",
   "metadata": {},
   "source": [
    "7.\tWrite a Pandas program to get list from DataFrame column headers."
   ]
  },
  {
   "cell_type": "code",
   "execution_count": 41,
   "id": "8994fd5e",
   "metadata": {},
   "outputs": [
    {
     "name": "stdout",
     "output_type": "stream",
     "text": [
      "['Name', 'Father', 'Ph No.']\n"
     ]
    }
   ],
   "source": [
    "print(list(df.columns.values))"
   ]
  },
  {
   "cell_type": "markdown",
   "id": "9dc6b1b0",
   "metadata": {},
   "source": [
    "8.\tWrite a Pandas program to change the name of the student."
   ]
  },
  {
   "cell_type": "code",
   "execution_count": 44,
   "id": "8677e8e3",
   "metadata": {},
   "outputs": [
    {
     "name": "stdout",
     "output_type": "stream",
     "text": [
      "shoheb\n",
      "y20cs162    shoheb\n",
      "y20cs164    shoheb\n",
      "Name: Name, dtype: object\n"
     ]
    },
    {
     "name": "stderr",
     "output_type": "stream",
     "text": [
      "C:\\Users\\exam2\\AppData\\Local\\Temp/ipykernel_14780/2192507288.py:1: SettingWithCopyWarning: \n",
      "A value is trying to be set on a copy of a slice from a DataFrame\n",
      "\n",
      "See the caveats in the documentation: https://pandas.pydata.org/pandas-docs/stable/user_guide/indexing.html#returning-a-view-versus-a-copy\n",
      "  df['Name'][0]='shoheb'\n"
     ]
    }
   ],
   "source": [
    "df['Name'][0]='shoheb'\n",
    "print(df['Name'][0])\n",
    "print(df['Name'])"
   ]
  },
  {
   "cell_type": "markdown",
   "id": "e70b636a",
   "metadata": {},
   "source": [
    "9.\tWrite a Pandas program to insert a new column “grade” in existing DataFrame."
   ]
  },
  {
   "cell_type": "code",
   "execution_count": 46,
   "id": "bdcfe0b8",
   "metadata": {},
   "outputs": [
    {
     "name": "stdout",
     "output_type": "stream",
     "text": [
      "            Name  Father  Ph No.  Grade\n",
      "y20cs162  shoheb  shoheb     123      2\n",
      "y20cs164  shoheb  shoheb     456      3\n"
     ]
    }
   ],
   "source": [
    "df['Grade']=[2,3]\n",
    "print(df)"
   ]
  },
  {
   "cell_type": "markdown",
   "id": "2beb2a21",
   "metadata": {},
   "source": [
    "10.Write a pandas program to create and display a dataframe from a specified dictionary data which has the index labels."
   ]
  },
  {
   "cell_type": "code",
   "execution_count": 47,
   "id": "8d9b6734",
   "metadata": {},
   "outputs": [
    {
     "name": "stdout",
     "output_type": "stream",
     "text": [
      "           Name  Father  Ph No.\n",
      "y20cs162  Akram  shoheb     123\n",
      "y20cs164    Ali  shoheb     456\n"
     ]
    }
   ],
   "source": [
    "l={'Name':['Akram','Ali'],'Father':['shoheb','shoheb'],'Ph No.':[123,456]}\n",
    "label=['y20cs162','y20cs164']\n",
    "\n",
    "df=pd.DataFrame(l,index=label)\n",
    "print(df)"
   ]
  }
 ],
 "metadata": {
  "kernelspec": {
   "display_name": "Python 3 (ipykernel)",
   "language": "python",
   "name": "python3"
  },
  "language_info": {
   "codemirror_mode": {
    "name": "ipython",
    "version": 3
   },
   "file_extension": ".py",
   "mimetype": "text/x-python",
   "name": "python",
   "nbconvert_exporter": "python",
   "pygments_lexer": "ipython3",
   "version": "3.9.7"
  }
 },
 "nbformat": 4,
 "nbformat_minor": 5
}
