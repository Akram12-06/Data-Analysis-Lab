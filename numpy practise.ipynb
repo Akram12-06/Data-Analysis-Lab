{
 "cells": [
  {
   "cell_type": "markdown",
   "id": "abbb9405",
   "metadata": {},
   "source": [
    "a. Using Numpy, write a basic array of operations on single array to add x to each element of array and subtract y from each element of array. "
   ]
  },
  {
   "cell_type": "code",
   "execution_count": 4,
   "id": "42ebfb11",
   "metadata": {},
   "outputs": [
    {
     "name": "stdout",
     "output_type": "stream",
     "text": [
      "[0 1 2 3 4 5 6 7 8 9]\n",
      "[10 11 12 13 14 15 16 17 18 19]\n",
      "[-10  -9  -8  -7  -6  -5  -4  -3  -2  -1]\n"
     ]
    }
   ],
   "source": [
    "import numpy as np\n",
    "x=np.arange(10)\n",
    "print(x)\n",
    "print(x+10)\n",
    "print(x-10)"
   ]
  },
  {
   "cell_type": "markdown",
   "id": "0e178512",
   "metadata": {},
   "source": [
    "b.Using Numpy, write a program to add, subtract and multiply two matrices. "
   ]
  },
  {
   "cell_type": "code",
   "execution_count": 9,
   "id": "2ae07d27",
   "metadata": {},
   "outputs": [
    {
     "name": "stdout",
     "output_type": "stream",
     "text": [
      "[[1 2 3]\n",
      " [4 5 6]\n",
      " [7 8 9]]\n",
      "[[10 11 12]\n",
      " [13 14 15]\n",
      " [16 17 18]]\n",
      "The addition of x and y gives:\n",
      " [[11 13 15]\n",
      " [17 19 21]\n",
      " [23 25 27]]\n"
     ]
    }
   ],
   "source": [
    "x=np.arange(1,10).reshape(3,3)\n",
    "y=np.arange(10,19).reshape(3,3)\n",
    "print(x)\n",
    "print(y)\n",
    "print(\"The addition of x and y gives:\\n\",np.add(x,y))"
   ]
  },
  {
   "cell_type": "markdown",
   "id": "e38dad7e",
   "metadata": {},
   "source": [
    "c. Write a Python program to do the following operations: Library: NumPy\n",
    "i)\tCreate multi-dimensional arrays and find its shape and dimension \n"
   ]
  },
  {
   "cell_type": "code",
   "execution_count": 20,
   "id": "c9c1cbd9",
   "metadata": {},
   "outputs": [
    {
     "name": "stdout",
     "output_type": "stream",
     "text": [
      "2\n",
      "3\n"
     ]
    }
   ],
   "source": [
    "n=np.array([[[1,2,3],[4,5,6]],[[1,2,3],[4,5,6]]])\n",
    "k=np.array([[1,2,3],[3,4,5]])\n",
    "print(k.ndim)\n",
    "print(n.ndim)"
   ]
  },
  {
   "cell_type": "markdown",
   "id": "be3db309",
   "metadata": {},
   "source": [
    "ii)Create a matrix full of zeros and ones "
   ]
  },
  {
   "cell_type": "code",
   "execution_count": 33,
   "id": "5129a5cd",
   "metadata": {},
   "outputs": [
    {
     "name": "stdout",
     "output_type": "stream",
     "text": [
      "2\n"
     ]
    }
   ],
   "source": [
    "n=np.matrix(np.ones((3,2)))\n",
    "print(n.ndim)\n"
   ]
  },
  {
   "cell_type": "markdown",
   "id": "1ad5c4bb",
   "metadata": {},
   "source": [
    "iii)\tReshape and flatten data in the array "
   ]
  },
  {
   "cell_type": "code",
   "execution_count": 35,
   "id": "849683e9",
   "metadata": {},
   "outputs": [
    {
     "name": "stdout",
     "output_type": "stream",
     "text": [
      "[[1. 1. 1.]\n",
      " [1. 1. 1.]]\n",
      "[[1. 1.]\n",
      " [1. 1.]\n",
      " [1. 1.]]\n",
      "[[1. 1. 1. 1. 1. 1.]]\n"
     ]
    }
   ],
   "source": [
    "print(n.reshape(2,3))\n",
    "print(n)\n",
    "print(n.flatten())"
   ]
  },
  {
   "cell_type": "markdown",
   "id": "cb41615b",
   "metadata": {},
   "source": [
    "iv)\tAppend data vertically and horizontally "
   ]
  },
  {
   "cell_type": "code",
   "execution_count": 44,
   "id": "74ac6286",
   "metadata": {},
   "outputs": [
    {
     "name": "stdout",
     "output_type": "stream",
     "text": [
      "[[1 2 3]\n",
      " [4 5 6]\n",
      " [7 8 9]]\n",
      "[[1. 1. 1.]]\n",
      "Row concatenate: \n",
      " [[1. 2. 3.]\n",
      " [4. 5. 6.]\n",
      " [7. 8. 9.]\n",
      " [1. 1. 1.]]\n",
      "Col concatenate: \n",
      " [[1. 2. 3. 1.]\n",
      " [4. 5. 6. 1.]\n",
      " [7. 8. 9. 1.]]\n"
     ]
    }
   ],
   "source": [
    "n=np.arange(1,10).reshape(3,3)\n",
    "print(n)\n",
    "y=np.ones((1,3))\n",
    "print(y)\n",
    "print(\"Row concatenate: \\n\",np.concatenate((n,y),axis=0))\n",
    "y=np.ones((3,1))\n",
    "print(\"Col concatenate: \\n\",np.concatenate((n,y),axis=1))"
   ]
  },
  {
   "cell_type": "markdown",
   "id": "148410b9",
   "metadata": {},
   "source": [
    "v)\tApply indexing and slicing on array "
   ]
  },
  {
   "cell_type": "code",
   "execution_count": 53,
   "id": "7fb3a695",
   "metadata": {},
   "outputs": [
    {
     "name": "stdout",
     "output_type": "stream",
     "text": [
      "[[1 2 3]\n",
      " [4 5 6]\n",
      " [7 8 9]]\n",
      "the slicing is:\n",
      "[[1 2 3]\n",
      " [4 5 6]]\n"
     ]
    }
   ],
   "source": [
    "n=np.arange(1,10).reshape(3,3)\n",
    "print(n)\n",
    "print(\"the slicing is:\")\n",
    "print(n[:2,:])"
   ]
  },
  {
   "cell_type": "markdown",
   "id": "f37339aa",
   "metadata": {},
   "source": [
    "vi)\tUse statistical functions on array - Min, Max, Mean, Median and Standard Deviation "
   ]
  },
  {
   "cell_type": "code",
   "execution_count": 59,
   "id": "45534cd2",
   "metadata": {},
   "outputs": [
    {
     "name": "stdout",
     "output_type": "stream",
     "text": [
      "[[1 2 3]\n",
      " [4 5 6]\n",
      " [7 8 9]]\n",
      "1\n",
      "9\n",
      "5.0\n",
      "2.581988897471611\n"
     ]
    }
   ],
   "source": [
    "n=np.arange(1,10).reshape(3,3)\n",
    "print(n)\n",
    "print(np.min(n))\n",
    "print(np.max(n))\n",
    "print(np.mean(n))\n",
    "print(np.std(n))"
   ]
  },
  {
   "cell_type": "markdown",
   "id": "97e43d21",
   "metadata": {},
   "source": [
    "vii)\tDot and matrix product of two arrays "
   ]
  },
  {
   "cell_type": "code",
   "execution_count": 66,
   "id": "2b166853",
   "metadata": {},
   "outputs": [
    {
     "name": "stdout",
     "output_type": "stream",
     "text": [
      "[[1 2 3]\n",
      " [4 5 6]\n",
      " [7 8 9]]\n",
      "[[10 11 12]\n",
      " [13 14 15]\n",
      " [16 17 18]]\n",
      "the product of matric is :\n",
      " [[ 84  90  96]\n",
      " [201 216 231]\n",
      " [318 342 366]]\n"
     ]
    }
   ],
   "source": [
    "x=np.arange(1,10).reshape(3,3)\n",
    "y=np.arange(10,19).reshape(3,3)\n",
    "print(x)\n",
    "print(y)\n",
    "print(\"the product of matric is :\\n\",np.dot(x,y))"
   ]
  },
  {
   "cell_type": "markdown",
   "id": "8b951b64",
   "metadata": {},
   "source": [
    "viii)\tCompute the Eigen values of a matrix "
   ]
  },
  {
   "cell_type": "code",
   "execution_count": 69,
   "id": "c8ce8ed3",
   "metadata": {},
   "outputs": [
    {
     "name": "stdout",
     "output_type": "stream",
     "text": [
      "[ 1.61168440e+01 -1.11684397e+00 -3.38433605e-16]\n"
     ]
    }
   ],
   "source": [
    "print(np.linalg.eigvals(x))"
   ]
  },
  {
   "cell_type": "markdown",
   "id": "329279b8",
   "metadata": {},
   "source": [
    "ix)\tSolve a linear matrix equation such as 3 * x0 + x1 = 9, x0 + 2 * x1 = 8 "
   ]
  },
  {
   "cell_type": "markdown",
   "id": "53d358ed",
   "metadata": {},
   "source": [
    "x)\tCompute the multiplicative inverse of a matrix "
   ]
  },
  {
   "cell_type": "code",
   "execution_count": 70,
   "id": "01c925b5",
   "metadata": {},
   "outputs": [
    {
     "name": "stdout",
     "output_type": "stream",
     "text": [
      "[[ 3.15251974e+15 -6.30503948e+15  3.15251974e+15]\n",
      " [-6.30503948e+15  1.26100790e+16 -6.30503948e+15]\n",
      " [ 3.15251974e+15 -6.30503948e+15  3.15251974e+15]]\n"
     ]
    }
   ],
   "source": [
    "print(np.linalg.inv(x))"
   ]
  },
  {
   "cell_type": "markdown",
   "id": "7f40b155",
   "metadata": {},
   "source": [
    "xi)\tCompute the rank of a matrix "
   ]
  },
  {
   "cell_type": "code",
   "execution_count": 71,
   "id": "33dde639",
   "metadata": {},
   "outputs": [
    {
     "name": "stdout",
     "output_type": "stream",
     "text": [
      "2\n"
     ]
    }
   ],
   "source": [
    "print(np.linalg.matrix_rank(x))"
   ]
  },
  {
   "cell_type": "markdown",
   "id": "c8c9f41a",
   "metadata": {},
   "source": [
    "Compute the determinant of an array"
   ]
  },
  {
   "cell_type": "code",
   "execution_count": 72,
   "id": "c043920e",
   "metadata": {},
   "outputs": [
    {
     "name": "stdout",
     "output_type": "stream",
     "text": [
      "-9.51619735392994e-16\n"
     ]
    }
   ],
   "source": [
    "print(np.linalg.det(x))"
   ]
  },
  {
   "cell_type": "code",
   "execution_count": null,
   "id": "c4ba9bde",
   "metadata": {},
   "outputs": [],
   "source": []
  }
 ],
 "metadata": {
  "kernelspec": {
   "display_name": "Python 3 (ipykernel)",
   "language": "python",
   "name": "python3"
  },
  "language_info": {
   "codemirror_mode": {
    "name": "ipython",
    "version": 3
   },
   "file_extension": ".py",
   "mimetype": "text/x-python",
   "name": "python",
   "nbconvert_exporter": "python",
   "pygments_lexer": "ipython3",
   "version": "3.9.7"
  }
 },
 "nbformat": 4,
 "nbformat_minor": 5
}
